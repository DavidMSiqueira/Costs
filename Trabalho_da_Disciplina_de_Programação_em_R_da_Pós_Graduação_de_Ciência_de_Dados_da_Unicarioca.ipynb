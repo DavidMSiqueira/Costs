{
  "nbformat": 4,
  "nbformat_minor": 0,
  "metadata": {
    "colab": {
      "provenance": [],
      "authorship_tag": "ABX9TyO55axl/R+xHXPF29vbZYu5",
      "include_colab_link": true
    },
    "kernelspec": {
      "name": "ir",
      "display_name": "R"
    },
    "language_info": {
      "name": "R"
    }
  },
  "cells": [
    {
      "cell_type": "markdown",
      "metadata": {
        "id": "view-in-github",
        "colab_type": "text"
      },
      "source": [
        "<a href=\"https://colab.research.google.com/github/DavidMSiqueira/Costs/blob/main/Trabalho_da_Disciplina_de_Programa%C3%A7%C3%A3o_em_R_da_P%C3%B3s_Gradua%C3%A7%C3%A3o_de_Ci%C3%AAncia_de_Dados_da_Unicarioca.ipynb\" target=\"_parent\"><img src=\"https://colab.research.google.com/assets/colab-badge.svg\" alt=\"Open In Colab\"/></a>"
      ]
    },
    {
      "cell_type": "code",
      "execution_count": null,
      "metadata": {
        "id": "SYWfj4jXuSLu"
      },
      "outputs": [],
      "source": []
    }
  ]
}